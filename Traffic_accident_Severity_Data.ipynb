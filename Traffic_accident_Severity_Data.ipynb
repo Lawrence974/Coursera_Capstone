{
 "cells": [
  {
   "cell_type": "markdown",
   "metadata": {},
   "source": [
    "## Capstone Project - Predicting Traffic Accident Severity\n",
    "### Applied Data Science Capstone Project\n",
    "### Table of contents\n",
    ">1. Introduction\n",
    ">2. Data\n",
    ">3. Data Cleaning\n",
    ">4. Exploratory Data Analysis\n",
    ">5. Data Preparation\n",
    ">6. Model Development\n",
    ">7. Evaluation\n",
    ">8. Deplyoment"
   ]
  },
  {
   "cell_type": "markdown",
   "metadata": {},
   "source": [
    "## **1. Introduction**"
   ]
  },
  {
   "cell_type": "markdown",
   "metadata": {},
   "source": [
    "Road traffic injuries are currently estimated to be the eighth leading cause of death across all age groups globally, and are predicted to become the seventh leading cause of death by 2030.\n",
    "\n",
    "Analysing a significant range of factors, including weather conditions, special events, roadworks, traffic jams among others, an accurate prediction of the severity of the accidents can be performed.\n",
    "\n",
    "These insights, could allow law enforcement bodies to allocate their resources more effectively in advance of potential accidents, preventing when and where a severe accidents can occur as well as saving both, time and money. In addition, this knowledge of a severe accident situation can be warned to drivers so that they would drive more carefully or even change their route if it is possible or to hospital which could have set everything ready for a severe intervention in advance.\n",
    "\n",
    "Governments should be highly interested in accurate predictions of the severity of an accident, in order to reduce the time of arrival and thus save a significant amount of people each year. Others interested could be private companies investing in technologies aiming to improve road safeness."
   ]
  },
  {
   "cell_type": "code",
   "execution_count": 7,
   "metadata": {},
   "outputs": [
    {
     "name": "stdout",
     "output_type": "stream",
     "text": [
      "Welcome to my Capstone Project on 'Traffic Accident Severity'!\n"
     ]
    }
   ],
   "source": [
    "# Importing print from future\n",
    "from __future__ import print_function\n",
    "print(\"Welcome to my Capstone Project on 'Traffic Accident Severity'!\")"
   ]
  },
  {
   "cell_type": "markdown",
   "metadata": {},
   "source": [
    "## 2. Data"
   ]
  },
  {
   "cell_type": "markdown",
   "metadata": {},
   "source": [
    "The original data for this project comes from the following [Kaggle data set](https://www.kaggle.com/ahmedlahlou/accidents-in-france-from-2005-to-2016?select=places.csv). One more note book where I have done Feature Selection, selecting the most relevant features for the prediction of traffic accident severity.\n",
    "\n",
    "The features of the dataset resulting are the following:\n",
    "\n",
    "In the characteristics dataset, I will keep the features: \"lighting\", \"localisation\"(agg), \"type of intersection\", \"atmospheric conditions\", \"type of collisions\", \"department\", \"adress\", \"time\" and the coordinates. I added two new features from this original dataset: \"date\" and \"weekend\" indicating if the accident occurred during the weekend or not.\n",
    "\n",
    "In the places dataset, I will keep only the features: \"road categorie\", \"traffic regime\", \"number of traffic lanes\", \"road profile\", \"road shape\", \"surface condition\", \"situation\", \"school nearby\" and \"infrastructure\".\n",
    "\n",
    "From the users dataset, I have created the following features:\n",
    "\n",
    "num_us: total number of users involved in the accident.\n",
    "\n",
    "ped: Wether there are pedestrians involved or not.\n",
    "\n",
    "critic_age: If there is any user in between 17 and 31 y.o.\n",
    "\n",
    "sev : maximum gravity suffered by any user involved in the accident:\n",
    "0 = Unscathered or Light injury\n",
    "1 = Hospitalized wonded or Death\n",
    "I used the holiday dataset to craft a new feature indicating the accident accurred during a holiday."
   ]
  },
  {
   "cell_type": "code",
   "execution_count": null,
   "metadata": {},
   "outputs": [],
   "source": []
  }
 ],
 "metadata": {
  "kernelspec": {
   "display_name": "Python 3",
   "language": "python",
   "name": "python3"
  },
  "language_info": {
   "codemirror_mode": {
    "name": "ipython",
    "version": 3
   },
   "file_extension": ".py",
   "mimetype": "text/x-python",
   "name": "python",
   "nbconvert_exporter": "python",
   "pygments_lexer": "ipython3",
   "version": "3.7.4"
  }
 },
 "nbformat": 4,
 "nbformat_minor": 2
}
